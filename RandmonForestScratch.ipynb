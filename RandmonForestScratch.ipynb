{
 "cells": [
  {
   "cell_type": "markdown",
   "id": "69e34fc8",
   "metadata": {
    "papermill": {
     "duration": 0.002301,
     "end_time": "2025-07-29T11:39:43.941735",
     "exception": false,
     "start_time": "2025-07-29T11:39:43.939434",
     "status": "completed"
    },
    "tags": []
   },
   "source": [
    "# ***Step-by-Step Code Implementation of Random Forest***\n",
    "# We'll implement from scratch using:\n",
    "# Decision Trees (from sklearn)\n",
    "# Manual Bootstrapping\n",
    "# Majority Voting"
   ]
  },
  {
   "cell_type": "code",
   "execution_count": 1,
   "id": "6a373d73",
   "metadata": {
    "_cell_guid": "b1076dfc-b9ad-4769-8c92-a6c4dae69d19",
    "_uuid": "8f2839f25d086af736a60e9eeb907d3b93b6e0e5",
    "execution": {
     "iopub.execute_input": "2025-07-29T11:39:43.946862Z",
     "iopub.status.busy": "2025-07-29T11:39:43.946633Z",
     "iopub.status.idle": "2025-07-29T11:39:48.502351Z",
     "shell.execute_reply": "2025-07-29T11:39:48.501500Z"
    },
    "papermill": {
     "duration": 4.559822,
     "end_time": "2025-07-29T11:39:48.503874",
     "exception": false,
     "start_time": "2025-07-29T11:39:43.944052",
     "status": "completed"
    },
    "tags": []
   },
   "outputs": [],
   "source": [
    "import numpy as np\n",
    "import pandas as pd\n",
    "from sklearn.tree import DecisionTreeClassifier\n",
    "from sklearn.datasets import load_iris\n",
    "from collections import Counter"
   ]
  },
  {
   "cell_type": "markdown",
   "id": "997629c3",
   "metadata": {
    "papermill": {
     "duration": 0.001615,
     "end_time": "2025-07-29T11:39:48.507830",
     "exception": false,
     "start_time": "2025-07-29T11:39:48.506215",
     "status": "completed"
    },
    "tags": []
   },
   "source": [
    "# **Loading Data**"
   ]
  },
  {
   "cell_type": "code",
   "execution_count": 2,
   "id": "e48403b5",
   "metadata": {
    "execution": {
     "iopub.execute_input": "2025-07-29T11:39:48.512660Z",
     "iopub.status.busy": "2025-07-29T11:39:48.511920Z",
     "iopub.status.idle": "2025-07-29T11:39:48.523170Z",
     "shell.execute_reply": "2025-07-29T11:39:48.522452Z"
    },
    "papermill": {
     "duration": 0.014854,
     "end_time": "2025-07-29T11:39:48.524463",
     "exception": false,
     "start_time": "2025-07-29T11:39:48.509609",
     "status": "completed"
    },
    "tags": []
   },
   "outputs": [],
   "source": [
    "data = load_iris()\n",
    "X = data.data\n",
    "y = data.target"
   ]
  },
  {
   "cell_type": "markdown",
   "id": "b560354c",
   "metadata": {
    "papermill": {
     "duration": 0.001498,
     "end_time": "2025-07-29T11:39:48.527968",
     "exception": false,
     "start_time": "2025-07-29T11:39:48.526470",
     "status": "completed"
    },
    "tags": []
   },
   "source": [
    "# **Create a Bootstrap Sample Function**"
   ]
  },
  {
   "cell_type": "code",
   "execution_count": 3,
   "id": "273b0d37",
   "metadata": {
    "execution": {
     "iopub.execute_input": "2025-07-29T11:39:48.532038Z",
     "iopub.status.busy": "2025-07-29T11:39:48.531833Z",
     "iopub.status.idle": "2025-07-29T11:39:48.535584Z",
     "shell.execute_reply": "2025-07-29T11:39:48.534769Z"
    },
    "papermill": {
     "duration": 0.007089,
     "end_time": "2025-07-29T11:39:48.536753",
     "exception": false,
     "start_time": "2025-07-29T11:39:48.529664",
     "status": "completed"
    },
    "tags": []
   },
   "outputs": [],
   "source": [
    "def bootstrap_sample(X, y):\n",
    "    n_samples = X.shape[0]\n",
    "    indices = np.random.choice(n_samples, size=n_samples, replace=True)\n",
    "    return X[indices], y[indices]"
   ]
  },
  {
   "cell_type": "markdown",
   "id": "a8656fa0",
   "metadata": {
    "papermill": {
     "duration": 0.001598,
     "end_time": "2025-07-29T11:39:48.540110",
     "exception": false,
     "start_time": "2025-07-29T11:39:48.538512",
     "status": "completed"
    },
    "tags": []
   },
   "source": [
    "# **Define Random Forest Training**"
   ]
  },
  {
   "cell_type": "code",
   "execution_count": 4,
   "id": "fd742a18",
   "metadata": {
    "execution": {
     "iopub.execute_input": "2025-07-29T11:39:48.545643Z",
     "iopub.status.busy": "2025-07-29T11:39:48.545012Z",
     "iopub.status.idle": "2025-07-29T11:39:48.549985Z",
     "shell.execute_reply": "2025-07-29T11:39:48.549166Z"
    },
    "papermill": {
     "duration": 0.009399,
     "end_time": "2025-07-29T11:39:48.551547",
     "exception": false,
     "start_time": "2025-07-29T11:39:48.542148",
     "status": "completed"
    },
    "tags": []
   },
   "outputs": [],
   "source": [
    "def train_random_forest(X, y, n_trees=100, max_depth=None):\n",
    "    forest = []\n",
    "    for _ in range(n_trees):\n",
    "        X_sample, y_sample = bootstrap_sample(X, y)\n",
    "        tree = DecisionTreeClassifier(max_depth=max_depth)\n",
    "        tree.fit(X_sample, y_sample)\n",
    "        forest.append(tree)\n",
    "    return forest"
   ]
  },
  {
   "cell_type": "markdown",
   "id": "50b14435",
   "metadata": {
    "papermill": {
     "duration": 0.001793,
     "end_time": "2025-07-29T11:39:48.555317",
     "exception": false,
     "start_time": "2025-07-29T11:39:48.553524",
     "status": "completed"
    },
    "tags": []
   },
   "source": [
    "# **Make Predictions (Using Majority Vote)**"
   ]
  },
  {
   "cell_type": "code",
   "execution_count": 5,
   "id": "7824b826",
   "metadata": {
    "execution": {
     "iopub.execute_input": "2025-07-29T11:39:48.560043Z",
     "iopub.status.busy": "2025-07-29T11:39:48.559558Z",
     "iopub.status.idle": "2025-07-29T11:39:48.564360Z",
     "shell.execute_reply": "2025-07-29T11:39:48.563850Z"
    },
    "papermill": {
     "duration": 0.008317,
     "end_time": "2025-07-29T11:39:48.565508",
     "exception": false,
     "start_time": "2025-07-29T11:39:48.557191",
     "status": "completed"
    },
    "tags": []
   },
   "outputs": [],
   "source": [
    "def predict_random_forest(forest, X):\n",
    "    tree_preds = np.array([tree.predict(X) for tree in forest])\n",
    "    final_preds = []\n",
    "    for i in range(X.shape[0]):\n",
    "        votes = tree_preds[:, i]\n",
    "        most_common = Counter(votes).most_common(1)[0][0]\n",
    "        final_preds.append(most_common)\n",
    "    return np.array(final_preds)"
   ]
  },
  {
   "cell_type": "code",
   "execution_count": 6,
   "id": "ae08f644",
   "metadata": {
    "execution": {
     "iopub.execute_input": "2025-07-29T11:39:48.571179Z",
     "iopub.status.busy": "2025-07-29T11:39:48.570796Z",
     "iopub.status.idle": "2025-07-29T11:39:48.587494Z",
     "shell.execute_reply": "2025-07-29T11:39:48.586451Z"
    },
    "papermill": {
     "duration": 0.021627,
     "end_time": "2025-07-29T11:39:48.589007",
     "exception": false,
     "start_time": "2025-07-29T11:39:48.567380",
     "status": "completed"
    },
    "tags": []
   },
   "outputs": [
    {
     "name": "stdout",
     "output_type": "stream",
     "text": [
      "Accuracy: 0.9733333333333334\n"
     ]
    }
   ],
   "source": [
    "forest = train_random_forest(X, y, n_trees=5, max_depth=3)\n",
    "y_pred = predict_random_forest(forest, X)\n",
    "accuracy = np.mean(y_pred == y)\n",
    "print(\"Accuracy:\", accuracy)"
   ]
  }
 ],
 "metadata": {
  "kaggle": {
   "accelerator": "nvidiaTeslaT4",
   "dataSources": [],
   "dockerImageVersionId": 31090,
   "isGpuEnabled": true,
   "isInternetEnabled": true,
   "language": "python",
   "sourceType": "notebook"
  },
  "kernelspec": {
   "display_name": "Python 3",
   "language": "python",
   "name": "python3"
  },
  "language_info": {
   "codemirror_mode": {
    "name": "ipython",
    "version": 3
   },
   "file_extension": ".py",
   "mimetype": "text/x-python",
   "name": "python",
   "nbconvert_exporter": "python",
   "pygments_lexer": "ipython3",
   "version": "3.11.13"
  },
  "papermill": {
   "default_parameters": {},
   "duration": 10.705783,
   "end_time": "2025-07-29T11:39:49.109529",
   "environment_variables": {},
   "exception": null,
   "input_path": "__notebook__.ipynb",
   "output_path": "__notebook__.ipynb",
   "parameters": {},
   "start_time": "2025-07-29T11:39:38.403746",
   "version": "2.6.0"
  }
 },
 "nbformat": 4,
 "nbformat_minor": 5
}
