{
 "cells": [
  {
   "cell_type": "code",
   "execution_count": 1,
   "id": "8e86f09b",
   "metadata": {
    "_cell_guid": "b1076dfc-b9ad-4769-8c92-a6c4dae69d19",
    "_uuid": "8f2839f25d086af736a60e9eeb907d3b93b6e0e5",
    "execution": {
     "iopub.execute_input": "2025-07-26T08:03:12.665133Z",
     "iopub.status.busy": "2025-07-26T08:03:12.664767Z",
     "iopub.status.idle": "2025-07-26T08:03:12.681764Z",
     "shell.execute_reply": "2025-07-26T08:03:12.681022Z"
    },
    "papermill": {
     "duration": 0.02277,
     "end_time": "2025-07-26T08:03:12.683941",
     "exception": false,
     "start_time": "2025-07-26T08:03:12.661171",
     "status": "completed"
    },
    "tags": []
   },
   "outputs": [],
   "source": [
    "import numpy as np\n",
    "\n",
    "class DecisionTreeNode:\n",
    "    def __init__(self, feature_index=None, threshold=None, left=None, right=None, value=None):\n",
    "        self.feature_index = feature_index\n",
    "        self.threshold = threshold\n",
    "        self.left = left\n",
    "        self.right = right\n",
    "        self.value = value\n",
    "\n",
    "class DecisionTreeClassifierScratch:\n",
    "    def __init__(self, max_depth=5, min_samples_split=2):\n",
    "        self.max_depth = max_depth\n",
    "        self.min_samples_split = min_samples_split\n",
    "        self.root = None\n",
    "        \n",
    "    def fit(self, X, y):\n",
    "        self.root = self._build_tree(X,y)\n",
    "        \n",
    "    def predict(self, X):\n",
    "        return np.array([self._predict_row(x, self.root) for x in X])\n",
    "        \n",
    "    def _predict_row(self, x, node):\n",
    "        if node.value is not None:\n",
    "            return node.value\n",
    "        if x[node.feature_index]<node.threshold:\n",
    "            return self._predict_row(x, node.left)\n",
    "        else:\n",
    "            return self._predict_row(x, node.right)\n",
    "\n",
    "    def _build_tree(self, X, y, depth=0):\n",
    "        num_samples, num_features = X.shape\n",
    "        num_classes = len(set(y))\n",
    "\n",
    "        if (depth >= self.max_depth) or (num_samples < self.min_samples_split) or (num_classes == 1):\n",
    "            leaf_value = self._most_common_label(y)\n",
    "            return DecisionTreeNode(value=leaf_value)\n",
    "\n",
    "        best_feat, best_thresh = self._best_split(X, y)\n",
    "\n",
    "        left_idx = X[:, best_feat] < best_thresh\n",
    "        right_idx = X[:, best_feat] >= best_thresh\n",
    "        left = self._build_tree(X[left_idx], y[left_idx], depth + 1)\n",
    "        right = self._build_tree(X[right_idx], y[right_idx], depth + 1)\n",
    "\n",
    "        return DecisionTreeNode(best_feat, best_thresh, left, right)\n",
    "        \n",
    "    def _best_split(self, X, y):\n",
    "        best_gini = float(\"inf\")\n",
    "        best_feat = None\n",
    "        best_thresh = None \n",
    "       \n",
    "        n_samples, n_features = X.shape\n",
    "\n",
    "        for feature_index in range(n_features):\n",
    "            thresholds = np.unique(X[:, feature_index])\n",
    "            for threshold in thresholds:\n",
    "                gini = self._gini_split(X, y, feature_index, threshold)\n",
    "                if gini < best_gini:\n",
    "                    best_gini = gini\n",
    "                    best_feat = feature_index\n",
    "                    best_thresh = threshold\n",
    "        return best_feat, best_thresh \n",
    "    def _gini_split(self, X, y, feature_index, threshold):\n",
    "        left_mask = X[:, feature_index] < threshold\n",
    "        right_mask = ~left_mask\n",
    "\n",
    "        left_y = y[left_mask]\n",
    "        right_y = y[right_mask]\n",
    "\n",
    "        left_gini = self._gini_index(left_y)\n",
    "        right_gini = self._gini_index(right_y)\n",
    "\n",
    "        n = len(y)\n",
    "        return (len(left_y) / n) * left_gini + (len(right_y) / n) * right_gini\n",
    "\n",
    "    def _gini_index(self, y):\n",
    "        if len(y) == 0:\n",
    "            return 0\n",
    "        classes, counts = np.unique(y, return_counts=True)\n",
    "        probs = counts / len(y)\n",
    "        return 1 - np.sum(probs ** 2)\n",
    "\n",
    "    def _most_common_label(self, y):\n",
    "        return np.bincount(y).argmax()"
   ]
  },
  {
   "cell_type": "markdown",
   "id": "87cd4dbf",
   "metadata": {
    "papermill": {
     "duration": 0.001351,
     "end_time": "2025-07-26T08:03:12.687414",
     "exception": false,
     "start_time": "2025-07-26T08:03:12.686063",
     "status": "completed"
    },
    "tags": []
   },
   "source": [
    "# **Example Use**"
   ]
  },
  {
   "cell_type": "code",
   "execution_count": 2,
   "id": "4125271b",
   "metadata": {
    "execution": {
     "iopub.execute_input": "2025-07-26T08:03:12.692246Z",
     "iopub.status.busy": "2025-07-26T08:03:12.691910Z",
     "iopub.status.idle": "2025-07-26T08:03:14.631261Z",
     "shell.execute_reply": "2025-07-26T08:03:14.630363Z"
    },
    "papermill": {
     "duration": 1.943668,
     "end_time": "2025-07-26T08:03:14.632819",
     "exception": false,
     "start_time": "2025-07-26T08:03:12.689151",
     "status": "completed"
    },
    "tags": []
   },
   "outputs": [
    {
     "name": "stdout",
     "output_type": "stream",
     "text": [
      "Accuracy: 0.9333333333333333\n"
     ]
    }
   ],
   "source": [
    "from sklearn.datasets import load_iris\n",
    "from sklearn.model_selection import train_test_split\n",
    "\n",
    "data = load_iris()\n",
    "X, y = data.data, data.target\n",
    "X_train, X_test, y_train, y_test = train_test_split(X, y, test_size=0.2)\n",
    "\n",
    "tree = DecisionTreeClassifierScratch(max_depth=10)\n",
    "tree.fit(X_train, y_train)\n",
    "\n",
    "preds = tree.predict(X_test)\n",
    "accuracy = np.mean(preds == y_test)\n",
    "print(\"Accuracy:\", accuracy)"
   ]
  }
 ],
 "metadata": {
  "kaggle": {
   "accelerator": "none",
   "dataSources": [],
   "dockerImageVersionId": 31089,
   "isGpuEnabled": false,
   "isInternetEnabled": true,
   "language": "python",
   "sourceType": "notebook"
  },
  "kernelspec": {
   "display_name": "Python 3",
   "language": "python",
   "name": "python3"
  },
  "language_info": {
   "codemirror_mode": {
    "name": "ipython",
    "version": 3
   },
   "file_extension": ".py",
   "mimetype": "text/x-python",
   "name": "python",
   "nbconvert_exporter": "python",
   "pygments_lexer": "ipython3",
   "version": "3.11.13"
  },
  "papermill": {
   "default_parameters": {},
   "duration": 7.797173,
   "end_time": "2025-07-26T08:03:15.255642",
   "environment_variables": {},
   "exception": null,
   "input_path": "__notebook__.ipynb",
   "output_path": "__notebook__.ipynb",
   "parameters": {},
   "start_time": "2025-07-26T08:03:07.458469",
   "version": "2.6.0"
  }
 },
 "nbformat": 4,
 "nbformat_minor": 5
}
